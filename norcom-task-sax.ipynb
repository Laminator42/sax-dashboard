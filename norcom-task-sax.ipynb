{
 "cells": [
  {
   "cell_type": "code",
   "execution_count": 3,
   "metadata": {},
   "outputs": [],
   "source": [
    "import numpy as np\n",
    "import matplotlib.pyplot as plt\n",
    "\n",
    "np.random.seed(seed=42)"
   ]
  },
  {
   "cell_type": "code",
   "execution_count": 18,
   "metadata": {},
   "outputs": [],
   "source": [
    "def my_paa(T, w):\n",
    "    # created just to test around for a while\n",
    "    n = len(T)\n",
    "    # TODO: cut T if n is divisble by w\n",
    "    return [np.mean(T[n//w*(i-1)+1:n//w*i+1]) for i in range(1, w+1)]\n",
    "\n",
    "def get_sax_symbol_frequency(word):\n",
    "    return {key: word.count(key) for key in set(word)}\n",
    "\n",
    "def sine(A, T, c, size):\n",
    "    return np.array([A*np.sin(2*np.pi/T * i) + c for i in range(size)])\n",
    "\n",
    "def exponential(A, k, c, size):\n",
    "    return np.array([A*np.exp(k * i) + c for i in range(size)])\n",
    "\n",
    "\n",
    "W = 20\n",
    "N = 2000\n",
    "\n",
    "xs = range(N)\n",
    "ts = sine(A=10, T=200, c=0, size=N) + sine(A=2, T=20, c=0, size=N) + sine(A=20, T=100, c=0, size=N) + np.random.normal(0, 5, size=N)\n",
    "ts = exponential(A=100, k=0.0005, c=0, size=N)# + sine(A=1, T=150, c=0, size=N)# + np.random.normal(0, 5, size=N)"
   ]
  },
  {
   "cell_type": "code",
   "execution_count": 19,
   "metadata": {},
   "outputs": [
    {
     "name": "stdout",
     "output_type": "stream",
     "text": [
      "SAX representation of the timeseries: aaaaaaabbbbcccdddddd\n",
      "frequencies of letters: {'b': 4, 'a': 7, 'd': 6, 'c': 3}\n"
     ]
    }
   ],
   "source": [
    "from saxpy.znorm import znorm\n",
    "from saxpy.paa import paa\n",
    "from saxpy.sax import ts_to_string\n",
    "from saxpy.alphabet import cuts_for_asize # alphabet size\n",
    "\n",
    "A = 4\n",
    "\n",
    "# normalize timeseries so that breakpoints can be determined by N(0, 1) Gaussian\n",
    "ts_normed = znorm(ts)\n",
    "# perform PAA\n",
    "ts_paa = paa(ts_normed, W)\n",
    "# convert PAA reduced timeseries to SAX representation using A letters\n",
    "word = ts_to_string(ts_paa, cuts_for_asize(A))\n",
    "print(f\"SAX representation of the timeseries: {word}\")\n",
    "print(f\"frequencies of letters: {get_sax_symbol_frequency(word)}\")"
   ]
  },
  {
   "cell_type": "code",
   "execution_count": 20,
   "metadata": {},
   "outputs": [
    {
     "data": {
      "text/plain": [
       "<matplotlib.legend.Legend at 0x24b3ceee4f0>"
      ]
     },
     "execution_count": 20,
     "metadata": {},
     "output_type": "execute_result"
    },
    {
     "data": {
      "image/png": "[encoded data removed]",
      "text/plain": [
       "<Figure size 432x288 with 1 Axes>"
      ]
     },
     "metadata": {
      "needs_background": "light"
     },
     "output_type": "display_data"
    }
   ],
   "source": [
    "# TODO: LOW PRIORITY. maybe check why implementations differ. \n",
    "\n",
    "# plot time series and compare own and saxpy PAA version\n",
    "plt.plot(range(len(ts)), ts, label=\"time series\")\n",
    "#plt.plot(range(len(ts)), np.repeat(my_paa(ts_normed, W), N//W), label=\"own PAA\")\n",
    "#plt.plot(range(len(ts)), np.repeat(paa(ts_normed, W), N//W), label=\"saxpy PAA\")\n",
    "plt.legend()"
   ]
  },
  {
   "cell_type": "code",
   "execution_count": null,
   "metadata": {},
   "outputs": [],
   "source": [
    "import numpy as np\n",
    "import matplotlib.pyplot as plt\n",
    "\n",
    "\n",
    "def reduce_ts(ts, tol=0.1):\n",
    "    ts_fourier = np.fft.fft(ts)\n",
    "    threshold = tol*np.max(np.abs(ts_fourier))\n",
    "    ft_deflated = [[idx, t] for idx, t in enumerate(ts_fourier) if abs(t) >= threshold]\n",
    "    return ft_deflated, len(ts)\n",
    "\n",
    "def inflate_ts(ft, n):\n",
    "    ft_inflated = np.zeros(n).astype(np.complex64)\n",
    "    for idx, f in ft:\n",
    "        ft_inflated[idx] = f\n",
    "    return np.fft.ifft(ft_inflated)\n",
    "\n",
    "\n",
    "ft_deflated, n = reduce_ts(ts, tol=0.0001)\n",
    "ts_retrieved = inflate_ts(ft_deflated, n)\n",
    "\n",
    "plt.plot(range(len(np.fft.fft(ts))), np.abs(np.fft.fft(ts)))\n",
    "plt.show()\n",
    "plt.plot(range(len(ts)), ts)\n",
    "plt.plot(range(len(ts)), ts_retrieved)\n",
    "plt.show()"
   ]
  },
  {
   "cell_type": "code",
   "execution_count": null,
   "metadata": {},
   "outputs": [],
   "source": []
  },
  {
   "cell_type": "code",
   "execution_count": null,
   "metadata": {},
   "outputs": [],
   "source": []
  }
 ],
 "metadata": {
  "kernelspec": {
   "display_name": "Python 3",
   "language": "python",
   "name": "python3"
  },
  "language_info": {
   "codemirror_mode": {
    "name": "ipython",
    "version": 3
   },
   "file_extension": ".py",
   "mimetype": "text/x-python",
   "name": "python",
   "nbconvert_exporter": "python",
   "pygments_lexer": "ipython3",
   "version": "3.8.3"
  }
 },
 "nbformat": 4,
 "nbformat_minor": 4
}
